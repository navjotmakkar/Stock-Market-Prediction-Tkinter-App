{
 "cells": [
  {
   "cell_type": "code",
   "execution_count": 21,
   "metadata": {
    "_cell_guid": "3abf5240-71b3-42b0-ba07-645fef015eb8",
    "_uuid": "697ae0e0296620c8aae2fab50541e72be4d84d60"
   },
   "outputs": [],
   "source": [
    "import pandas as pd\n",
    "import numpy as np\n",
    "import math\n",
    "import quandl as qd\n",
    "from matplotlib import pyplot as plt\n",
    "import seaborn as sns\n",
    "from sklearn import preprocessing, cross_validation\n",
    "from sklearn.neighbors import KNeighborsRegressor\n",
    "import sklearn\n",
    "from sklearn.tree import DecisionTreeRegressor\n",
    "from sklearn.ensemble import RandomForestRegressor"
   ]
  },
  {
   "cell_type": "code",
   "execution_count": 22,
   "metadata": {
    "_cell_guid": "a74288b7-68a3-4358-9695-3624eb880a4c",
    "_uuid": "e65cc1b633f3b24b35566b786ba449c37f543e98"
   },
   "outputs": [],
   "source": [
    "df = qd.get(\"NSE/POWERGRID\", authtoken=\"gmWv5h5b4KEUxUbiSneX\")"
   ]
  },
  {
   "cell_type": "code",
   "execution_count": 23,
   "metadata": {
    "_cell_guid": "69c46163-d467-4949-a4bc-44bafb42ca7c",
    "_uuid": "5ecbed9ea25fd48a9cc67e7ac83881b37997b645"
   },
   "outputs": [
    {
     "name": "stdout",
     "output_type": "stream",
     "text": [
      "<class 'pandas.core.frame.DataFrame'>\n",
      "DatetimeIndex: 2774 entries, 2007-10-05 to 2018-12-18\n",
      "Data columns (total 7 columns):\n",
      "Open                    2774 non-null float64\n",
      "High                    2774 non-null float64\n",
      "Low                     2774 non-null float64\n",
      "Last                    2774 non-null float64\n",
      "Close                   2774 non-null float64\n",
      "Total Trade Quantity    2774 non-null float64\n",
      "Turnover (Lacs)         2774 non-null float64\n",
      "dtypes: float64(7)\n",
      "memory usage: 173.4 KB\n"
     ]
    }
   ],
   "source": [
    "df.info()"
   ]
  },
  {
   "cell_type": "code",
   "execution_count": 24,
   "metadata": {
    "_cell_guid": "68555cc3-a190-448d-b0b1-000b9fb72c91",
    "_uuid": "90eb5fcbfabea22a73b2ab3c6ad49f4f70c3798e"
   },
   "outputs": [],
   "source": [
    "df.dropna(inplace=True)"
   ]
  },
  {
   "cell_type": "code",
   "execution_count": 25,
   "metadata": {
    "_cell_guid": "3fae9354-fb5e-463a-bcdf-e7f143b7623a",
    "_uuid": "ee22634926f2d6de1ef70fb419edd067cfebf6b9"
   },
   "outputs": [
    {
     "name": "stdout",
     "output_type": "stream",
     "text": [
      "<class 'pandas.core.frame.DataFrame'>\n",
      "DatetimeIndex: 2774 entries, 2007-10-05 to 2018-12-18\n",
      "Data columns (total 7 columns):\n",
      "Open                    2774 non-null float64\n",
      "High                    2774 non-null float64\n",
      "Low                     2774 non-null float64\n",
      "Last                    2774 non-null float64\n",
      "Close                   2774 non-null float64\n",
      "Total Trade Quantity    2774 non-null float64\n",
      "Turnover (Lacs)         2774 non-null float64\n",
      "dtypes: float64(7)\n",
      "memory usage: 173.4 KB\n"
     ]
    }
   ],
   "source": [
    "df.info()"
   ]
  },
  {
   "cell_type": "code",
   "execution_count": 26,
   "metadata": {
    "_cell_guid": "1474b5f2-7f1d-4e2e-b5f5-ab651b09ab6d",
    "_uuid": "1a443e1e5e292934cfe935bcaab88d98f2df102b",
    "scrolled": true
   },
   "outputs": [
    {
     "data": {
      "text/html": [
       "<div>\n",
       "<style scoped>\n",
       "    .dataframe tbody tr th:only-of-type {\n",
       "        vertical-align: middle;\n",
       "    }\n",
       "\n",
       "    .dataframe tbody tr th {\n",
       "        vertical-align: top;\n",
       "    }\n",
       "\n",
       "    .dataframe thead th {\n",
       "        text-align: right;\n",
       "    }\n",
       "</style>\n",
       "<table border=\"1\" class=\"dataframe\">\n",
       "  <thead>\n",
       "    <tr style=\"text-align: right;\">\n",
       "      <th></th>\n",
       "      <th>Open</th>\n",
       "      <th>High</th>\n",
       "      <th>Low</th>\n",
       "      <th>Last</th>\n",
       "      <th>Close</th>\n",
       "      <th>Total Trade Quantity</th>\n",
       "      <th>Turnover (Lacs)</th>\n",
       "    </tr>\n",
       "  </thead>\n",
       "  <tbody>\n",
       "    <tr>\n",
       "      <th>count</th>\n",
       "      <td>2774.000000</td>\n",
       "      <td>2774.000000</td>\n",
       "      <td>2774.000000</td>\n",
       "      <td>2774.000000</td>\n",
       "      <td>2774.000000</td>\n",
       "      <td>2.774000e+03</td>\n",
       "      <td>2774.000000</td>\n",
       "    </tr>\n",
       "    <tr>\n",
       "      <th>mean</th>\n",
       "      <td>131.442466</td>\n",
       "      <td>133.120043</td>\n",
       "      <td>129.539870</td>\n",
       "      <td>131.318241</td>\n",
       "      <td>131.323468</td>\n",
       "      <td>5.168941e+06</td>\n",
       "      <td>6898.024023</td>\n",
       "    </tr>\n",
       "    <tr>\n",
       "      <th>std</th>\n",
       "      <td>38.659946</td>\n",
       "      <td>38.808649</td>\n",
       "      <td>38.451954</td>\n",
       "      <td>38.584029</td>\n",
       "      <td>38.595646</td>\n",
       "      <td>1.289488e+07</td>\n",
       "      <td>14966.625018</td>\n",
       "    </tr>\n",
       "    <tr>\n",
       "      <th>min</th>\n",
       "      <td>61.700000</td>\n",
       "      <td>62.000000</td>\n",
       "      <td>52.000000</td>\n",
       "      <td>59.150000</td>\n",
       "      <td>58.000000</td>\n",
       "      <td>3.406300e+04</td>\n",
       "      <td>38.250000</td>\n",
       "    </tr>\n",
       "    <tr>\n",
       "      <th>25%</th>\n",
       "      <td>102.100000</td>\n",
       "      <td>103.700000</td>\n",
       "      <td>100.712500</td>\n",
       "      <td>102.300000</td>\n",
       "      <td>102.162500</td>\n",
       "      <td>2.125444e+06</td>\n",
       "      <td>2360.895000</td>\n",
       "    </tr>\n",
       "    <tr>\n",
       "      <th>50%</th>\n",
       "      <td>113.625000</td>\n",
       "      <td>115.050000</td>\n",
       "      <td>111.925000</td>\n",
       "      <td>113.400000</td>\n",
       "      <td>113.375000</td>\n",
       "      <td>3.392113e+06</td>\n",
       "      <td>4217.990000</td>\n",
       "    </tr>\n",
       "    <tr>\n",
       "      <th>75%</th>\n",
       "      <td>149.000000</td>\n",
       "      <td>150.987500</td>\n",
       "      <td>146.775000</td>\n",
       "      <td>148.850000</td>\n",
       "      <td>148.662500</td>\n",
       "      <td>5.547522e+06</td>\n",
       "      <td>7771.160000</td>\n",
       "    </tr>\n",
       "    <tr>\n",
       "      <th>max</th>\n",
       "      <td>226.500000</td>\n",
       "      <td>226.600000</td>\n",
       "      <td>223.000000</td>\n",
       "      <td>225.500000</td>\n",
       "      <td>225.950000</td>\n",
       "      <td>4.810589e+08</td>\n",
       "      <td>493056.070000</td>\n",
       "    </tr>\n",
       "  </tbody>\n",
       "</table>\n",
       "</div>"
      ],
      "text/plain": [
       "              Open         High          Low         Last        Close  \\\n",
       "count  2774.000000  2774.000000  2774.000000  2774.000000  2774.000000   \n",
       "mean    131.442466   133.120043   129.539870   131.318241   131.323468   \n",
       "std      38.659946    38.808649    38.451954    38.584029    38.595646   \n",
       "min      61.700000    62.000000    52.000000    59.150000    58.000000   \n",
       "25%     102.100000   103.700000   100.712500   102.300000   102.162500   \n",
       "50%     113.625000   115.050000   111.925000   113.400000   113.375000   \n",
       "75%     149.000000   150.987500   146.775000   148.850000   148.662500   \n",
       "max     226.500000   226.600000   223.000000   225.500000   225.950000   \n",
       "\n",
       "       Total Trade Quantity  Turnover (Lacs)  \n",
       "count          2.774000e+03      2774.000000  \n",
       "mean           5.168941e+06      6898.024023  \n",
       "std            1.289488e+07     14966.625018  \n",
       "min            3.406300e+04        38.250000  \n",
       "25%            2.125444e+06      2360.895000  \n",
       "50%            3.392113e+06      4217.990000  \n",
       "75%            5.547522e+06      7771.160000  \n",
       "max            4.810589e+08    493056.070000  "
      ]
     },
     "execution_count": 26,
     "metadata": {},
     "output_type": "execute_result"
    }
   ],
   "source": [
    "df.describe()"
   ]
  },
  {
   "cell_type": "code",
   "execution_count": 27,
   "metadata": {
    "_cell_guid": "cddd96ac-88e2-44ce-bd3d-6333c97159a7",
    "_uuid": "c947f129ec637a255c0026e26069e6fcfe302d26"
   },
   "outputs": [
    {
     "data": {
      "image/png": "[encoded data removed]",
      "text/plain": [
       "<matplotlib.figure.Figure at 0x7fdc7043def0>"
      ]
     },
     "metadata": {},
     "output_type": "display_data"
    }
   ],
   "source": [
    "plt.figure(1)\n",
    "sns.heatmap(df.corr(), annot=True)\n",
    "plt.show()"
   ]
  },
  {
   "cell_type": "code",
   "execution_count": 28,
   "metadata": {
    "_cell_guid": "e3612fbd-ede5-4662-9ab5-78a7dd945102",
    "_uuid": "d998a473dd3bd04ef1b7e8337d699762477d7ea5"
   },
   "outputs": [
    {
     "name": "stderr",
     "output_type": "stream",
     "text": [
      "/home/navjot/.local/lib/python3.5/site-packages/scipy/stats/stats.py:1713: FutureWarning: Using a non-tuple sequence for multidimensional indexing is deprecated; use `arr[tuple(seq)]` instead of `arr[seq]`. In the future this will be interpreted as an array index, `arr[np.array(seq)]`, which will result either in an error or a different result.\n",
      "  return np.add.reduce(sorted[indexer] * weights, axis=axis) / sumval\n"
     ]
    },
    {
     "data": {
      "image/png": "[encoded data removed]",
      "text/plain": [
       "<matplotlib.figure.Figure at 0x7fdc2d174b70>"
      ]
     },
     "metadata": {},
     "output_type": "display_data"
    }
   ],
   "source": [
    "plt.figure(2)\n",
    "sns.distplot(df.Close)\n",
    "plt.show()"
   ]
  },
  {
   "cell_type": "code",
   "execution_count": 29,
   "metadata": {
    "_cell_guid": "dcaf9d96-5026-4025-ab0c-fb305a3929e0",
    "_uuid": "458aadaa2f27cc0ecb86c58364b7b2656f79572a"
   },
   "outputs": [
    {
     "data": {
      "image/png": "[encoded data removed]",
      "text/plain": [
       "<matplotlib.figure.Figure at 0x7fdc2d17f9b0>"
      ]
     },
     "metadata": {},
     "output_type": "display_data"
    }
   ],
   "source": [
    "plt.figure(3)\n",
    "plt.xlabel('Index')\n",
    "plt.ylabel('Closing Price')\n",
    "plt.plot(df.Close, color='orange')\n",
    "plt.show()"
   ]
  },
  {
   "cell_type": "code",
   "execution_count": 30,
   "metadata": {
    "_cell_guid": "82ad81ac-835a-4f4e-805b-972c4f27a169",
    "_uuid": "6c568087a8c75f90dc6d7affdb6b29cf2947c1fd"
   },
   "outputs": [
    {
     "name": "stderr",
     "output_type": "stream",
     "text": [
      "/usr/local/lib/python3.5/dist-packages/ipykernel_launcher.py:2: SettingWithCopyWarning: \n",
      "A value is trying to be set on a copy of a slice from a DataFrame.\n",
      "Try using .loc[row_indexer,col_indexer] = value instead\n",
      "\n",
      "See the caveats in the documentation: http://pandas.pydata.org/pandas-docs/stable/indexing.html#indexing-view-versus-copy\n",
      "  \n"
     ]
    }
   ],
   "source": [
    "df_temp = df[['Open', 'High', 'Low', 'Close', 'Total Trade Quantity']]\n",
    "df_temp['HLP'] = (df_temp['High'] - df_temp['Close']) / df_temp['Close'] * 100.0\n",
    "df_temp['Change'] = (df_temp['Close'] - df_temp['Open']) / df_temp['Open'] * 100\n",
    "df_temp['EPS'] = (df['Turnover (Lacs)']*100000)/df['Total Trade Quantity']\n",
    "df_temp['PE'] = df_temp['Close']/df_temp['EPS']\n",
    "\n",
    "df_use = df_temp[['Close', 'HLP', 'Change', 'Total Trade Quantity', 'EPS', 'PE']]"
   ]
  },
  {
   "cell_type": "code",
   "execution_count": 31,
   "metadata": {
    "_cell_guid": "ca59e423-df48-4159-8153-b8b3642d9990",
    "_uuid": "d4e713e042d3ef60b886afd1fb7d7ef9f3c7bd6e",
    "scrolled": false
   },
   "outputs": [
    {
     "data": {
      "text/html": [
       "<div>\n",
       "<style scoped>\n",
       "    .dataframe tbody tr th:only-of-type {\n",
       "        vertical-align: middle;\n",
       "    }\n",
       "\n",
       "    .dataframe tbody tr th {\n",
       "        vertical-align: top;\n",
       "    }\n",
       "\n",
       "    .dataframe thead th {\n",
       "        text-align: right;\n",
       "    }\n",
       "</style>\n",
       "<table border=\"1\" class=\"dataframe\">\n",
       "  <thead>\n",
       "    <tr style=\"text-align: right;\">\n",
       "      <th></th>\n",
       "      <th>Close</th>\n",
       "      <th>HLP</th>\n",
       "      <th>Change</th>\n",
       "      <th>Total Trade Quantity</th>\n",
       "      <th>EPS</th>\n",
       "      <th>PE</th>\n",
       "    </tr>\n",
       "    <tr>\n",
       "      <th>Date</th>\n",
       "      <th></th>\n",
       "      <th></th>\n",
       "      <th></th>\n",
       "      <th></th>\n",
       "      <th></th>\n",
       "      <th></th>\n",
       "    </tr>\n",
       "  </thead>\n",
       "  <tbody>\n",
       "    <tr>\n",
       "      <th>2007-10-05</th>\n",
       "      <td>100.60</td>\n",
       "      <td>8.846918</td>\n",
       "      <td>12.026726</td>\n",
       "      <td>481058927.0</td>\n",
       "      <td>102.493903</td>\n",
       "      <td>0.981522</td>\n",
       "    </tr>\n",
       "    <tr>\n",
       "      <th>2007-10-08</th>\n",
       "      <td>95.45</td>\n",
       "      <td>8.957569</td>\n",
       "      <td>-8.221154</td>\n",
       "      <td>71252858.0</td>\n",
       "      <td>98.124008</td>\n",
       "      <td>0.972749</td>\n",
       "    </tr>\n",
       "    <tr>\n",
       "      <th>2007-10-09</th>\n",
       "      <td>101.95</td>\n",
       "      <td>0.882786</td>\n",
       "      <td>6.753927</td>\n",
       "      <td>65658228.0</td>\n",
       "      <td>98.567753</td>\n",
       "      <td>1.034314</td>\n",
       "    </tr>\n",
       "    <tr>\n",
       "      <th>2007-10-10</th>\n",
       "      <td>102.90</td>\n",
       "      <td>2.040816</td>\n",
       "      <td>-1.625239</td>\n",
       "      <td>38211410.0</td>\n",
       "      <td>103.657180</td>\n",
       "      <td>0.992695</td>\n",
       "    </tr>\n",
       "    <tr>\n",
       "      <th>2007-10-11</th>\n",
       "      <td>114.40</td>\n",
       "      <td>4.895105</td>\n",
       "      <td>-4.666667</td>\n",
       "      <td>59805552.0</td>\n",
       "      <td>110.779598</td>\n",
       "      <td>1.032681</td>\n",
       "    </tr>\n",
       "  </tbody>\n",
       "</table>\n",
       "</div>"
      ],
      "text/plain": [
       "             Close       HLP     Change  Total Trade Quantity         EPS  \\\n",
       "Date                                                                        \n",
       "2007-10-05  100.60  8.846918  12.026726           481058927.0  102.493903   \n",
       "2007-10-08   95.45  8.957569  -8.221154            71252858.0   98.124008   \n",
       "2007-10-09  101.95  0.882786   6.753927            65658228.0   98.567753   \n",
       "2007-10-10  102.90  2.040816  -1.625239            38211410.0  103.657180   \n",
       "2007-10-11  114.40  4.895105  -4.666667            59805552.0  110.779598   \n",
       "\n",
       "                  PE  \n",
       "Date                  \n",
       "2007-10-05  0.981522  \n",
       "2007-10-08  0.972749  \n",
       "2007-10-09  1.034314  \n",
       "2007-10-10  0.992695  \n",
       "2007-10-11  1.032681  "
      ]
     },
     "execution_count": 31,
     "metadata": {},
     "output_type": "execute_result"
    }
   ],
   "source": [
    "df_use.head()"
   ]
  },
  {
   "cell_type": "code",
   "execution_count": 32,
   "metadata": {
    "_cell_guid": "8faa8897-5ae8-4afc-af90-3e305727688f",
    "_uuid": "a82f69863c7d4896dab055a0b689949110c1f53c",
    "scrolled": true
   },
   "outputs": [
    {
     "name": "stderr",
     "output_type": "stream",
     "text": [
      "/usr/local/lib/python3.5/dist-packages/ipykernel_launcher.py:5: SettingWithCopyWarning: \n",
      "A value is trying to be set on a copy of a slice from a DataFrame.\n",
      "Try using .loc[row_indexer,col_indexer] = value instead\n",
      "\n",
      "See the caveats in the documentation: http://pandas.pydata.org/pandas-docs/stable/indexing.html#indexing-view-versus-copy\n",
      "  \"\"\"\n",
      "/usr/local/lib/python3.5/dist-packages/ipykernel_launcher.py:7: SettingWithCopyWarning: \n",
      "A value is trying to be set on a copy of a slice from a DataFrame\n",
      "\n",
      "See the caveats in the documentation: http://pandas.pydata.org/pandas-docs/stable/indexing.html#indexing-view-versus-copy\n",
      "  import sys\n"
     ]
    },
    {
     "data": {
      "text/html": [
       "<div>\n",
       "<style scoped>\n",
       "    .dataframe tbody tr th:only-of-type {\n",
       "        vertical-align: middle;\n",
       "    }\n",
       "\n",
       "    .dataframe tbody tr th {\n",
       "        vertical-align: top;\n",
       "    }\n",
       "\n",
       "    .dataframe thead th {\n",
       "        text-align: right;\n",
       "    }\n",
       "</style>\n",
       "<table border=\"1\" class=\"dataframe\">\n",
       "  <thead>\n",
       "    <tr style=\"text-align: right;\">\n",
       "      <th></th>\n",
       "      <th>Close</th>\n",
       "      <th>HLP</th>\n",
       "      <th>Change</th>\n",
       "      <th>Total Trade Quantity</th>\n",
       "      <th>EPS</th>\n",
       "      <th>PE</th>\n",
       "      <th>Label</th>\n",
       "    </tr>\n",
       "    <tr>\n",
       "      <th>Date</th>\n",
       "      <th></th>\n",
       "      <th></th>\n",
       "      <th></th>\n",
       "      <th></th>\n",
       "      <th></th>\n",
       "      <th></th>\n",
       "      <th></th>\n",
       "    </tr>\n",
       "  </thead>\n",
       "  <tbody>\n",
       "    <tr>\n",
       "      <th>2018-10-31</th>\n",
       "      <td>185.95</td>\n",
       "      <td>0.430223</td>\n",
       "      <td>0.459211</td>\n",
       "      <td>5412453.0</td>\n",
       "      <td>184.345989</td>\n",
       "      <td>1.008701</td>\n",
       "      <td>182.55</td>\n",
       "    </tr>\n",
       "    <tr>\n",
       "      <th>2018-11-01</th>\n",
       "      <td>188.45</td>\n",
       "      <td>0.451048</td>\n",
       "      <td>1.262762</td>\n",
       "      <td>3151762.0</td>\n",
       "      <td>186.726028</td>\n",
       "      <td>1.009233</td>\n",
       "      <td>182.55</td>\n",
       "    </tr>\n",
       "    <tr>\n",
       "      <th>2018-11-02</th>\n",
       "      <td>189.85</td>\n",
       "      <td>1.290492</td>\n",
       "      <td>0.423168</td>\n",
       "      <td>3394386.0</td>\n",
       "      <td>190.506619</td>\n",
       "      <td>0.996553</td>\n",
       "      <td>185.70</td>\n",
       "    </tr>\n",
       "    <tr>\n",
       "      <th>2018-11-05</th>\n",
       "      <td>186.05</td>\n",
       "      <td>1.854340</td>\n",
       "      <td>-1.586882</td>\n",
       "      <td>2740960.0</td>\n",
       "      <td>185.965501</td>\n",
       "      <td>1.000454</td>\n",
       "      <td>192.55</td>\n",
       "    </tr>\n",
       "    <tr>\n",
       "      <th>2018-11-06</th>\n",
       "      <td>188.10</td>\n",
       "      <td>0.478469</td>\n",
       "      <td>0.534474</td>\n",
       "      <td>4127100.0</td>\n",
       "      <td>187.264908</td>\n",
       "      <td>1.004459</td>\n",
       "      <td>196.35</td>\n",
       "    </tr>\n",
       "  </tbody>\n",
       "</table>\n",
       "</div>"
      ],
      "text/plain": [
       "             Close       HLP    Change  Total Trade Quantity         EPS  \\\n",
       "Date                                                                       \n",
       "2018-10-31  185.95  0.430223  0.459211             5412453.0  184.345989   \n",
       "2018-11-01  188.45  0.451048  1.262762             3151762.0  186.726028   \n",
       "2018-11-02  189.85  1.290492  0.423168             3394386.0  190.506619   \n",
       "2018-11-05  186.05  1.854340 -1.586882             2740960.0  185.965501   \n",
       "2018-11-06  188.10  0.478469  0.534474             4127100.0  187.264908   \n",
       "\n",
       "                  PE   Label  \n",
       "Date                          \n",
       "2018-10-31  1.008701  182.55  \n",
       "2018-11-01  1.009233  182.55  \n",
       "2018-11-02  0.996553  185.70  \n",
       "2018-11-05  1.000454  192.55  \n",
       "2018-11-06  1.004459  196.35  "
      ]
     },
     "execution_count": 32,
     "metadata": {},
     "output_type": "execute_result"
    }
   ],
   "source": [
    "forecast_col = 'Close'\n",
    "\n",
    "forecast_out = int(math.ceil(0.01*len(df_use)))\n",
    "\n",
    "df_use['Label'] = df_use[forecast_col].shift(-forecast_out)\n",
    "\n",
    "df_use.dropna(inplace=True)\n",
    "\n",
    "df_use.tail()"
   ]
  },
  {
   "cell_type": "code",
   "execution_count": 33,
   "metadata": {
    "_cell_guid": "4a9f96c1-40b9-4904-9a13-8b9ff1ec8f4e",
    "_uuid": "0e97399346fbabbf7e3159618d74d2806039fb87"
   },
   "outputs": [
    {
     "name": "stdout",
     "output_type": "stream",
     "text": [
      "We are predicting \" 28 \" days into the future\n"
     ]
    }
   ],
   "source": [
    "print('We are predicting \"', forecast_out, '\" days into the future')"
   ]
  },
  {
   "cell_type": "code",
   "execution_count": 34,
   "metadata": {
    "_cell_guid": "1ab42218-a88a-45e9-b72d-636624beddf2",
    "_uuid": "0dcbf637f4e4dad15d354750ee9607360fa73ca7"
   },
   "outputs": [
    {
     "name": "stdout",
     "output_type": "stream",
     "text": [
      "<class 'pandas.core.frame.DataFrame'>\n",
      "DatetimeIndex: 2746 entries, 2007-10-05 to 2018-11-06\n",
      "Data columns (total 7 columns):\n",
      "Close                   2746 non-null float64\n",
      "HLP                     2746 non-null float64\n",
      "Change                  2746 non-null float64\n",
      "Total Trade Quantity    2746 non-null float64\n",
      "EPS                     2746 non-null float64\n",
      "PE                      2746 non-null float64\n",
      "Label                   2746 non-null float64\n",
      "dtypes: float64(7)\n",
      "memory usage: 171.6 KB\n"
     ]
    }
   ],
   "source": [
    "df_use.info()"
   ]
  },
  {
   "cell_type": "code",
   "execution_count": 35,
   "metadata": {
    "_cell_guid": "5477548e-d49e-4702-9be8-62087eee59ea",
    "_uuid": "ed8794d61a4aecf02b541f78ec1632e4aa98df32",
    "scrolled": true
   },
   "outputs": [
    {
     "name": "stdout",
     "output_type": "stream",
     "text": [
      "(2746, 6) (2746,)\n"
     ]
    }
   ],
   "source": [
    "X = df_use\n",
    "X = X.drop(['Label'], 1)\n",
    "# X = preprocessing.scale(X)\n",
    "\n",
    "y = df_use['Label']\n",
    "\n",
    "print(X.shape, y.shape)"
   ]
  },
  {
   "cell_type": "code",
   "execution_count": 36,
   "metadata": {
    "_cell_guid": "90e4a560-ce0f-42a3-8bf5-8b6f6f66a75d",
    "_uuid": "2e0299ffb0b4479f7b6d95f5457ef11be9ea2de7"
   },
   "outputs": [],
   "source": [
    "# X = np.array(df_use.drop(['label'], 1))\n",
    "# y = np.array(df_use['label'])\n",
    "\n",
    "# X = preprocessing.scale(X)\n",
    "\n",
    "# print(X.shape, Y.shape)"
   ]
  },
  {
   "cell_type": "code",
   "execution_count": 37,
   "metadata": {
    "_cell_guid": "091f9b60-dcc5-49e2-8b81-3c5778a66789",
    "_uuid": "59ed443e52a51822b63c084b7c5ac2751b85dd40"
   },
   "outputs": [
    {
     "name": "stdout",
     "output_type": "stream",
     "text": [
      "(2196, 6) (2196,)\n",
      "(550, 6) (550,)\n"
     ]
    }
   ],
   "source": [
    "X_train, X_test, y_train, y_test = cross_validation.train_test_split(X, y, test_size=0.2)\n",
    "\n",
    "print(X_train.shape, y_train.shape)\n",
    "print(X_test.shape, y_test.shape)"
   ]
  },
  {
   "cell_type": "markdown",
   "metadata": {},
   "source": [
    "### KNN"
   ]
  },
  {
   "cell_type": "code",
   "execution_count": 38,
   "metadata": {
    "_cell_guid": "b2798f00-8acb-4f77-93ff-6eb79c8411bb",
    "_uuid": "798b5c88946ece24dbfe931bd7c255e540f28b8c"
   },
   "outputs": [
    {
     "name": "stdout",
     "output_type": "stream",
     "text": [
      "-0.13178638530412567\n"
     ]
    }
   ],
   "source": [
    "clf = sklearn.neighbors.KNeighborsRegressor(n_neighbors=5, \n",
    "                                            weights='uniform', \n",
    "                                            algorithm='auto', \n",
    "                                            leaf_size=30, p=2, \n",
    "                                            metric='minkowski')\n",
    "clf.fit(X_train, y_train)\n",
    "\n",
    "accuracy = clf.score(X_test, y_test)\n",
    "\n",
    "print(accuracy)"
   ]
  },
  {
   "cell_type": "markdown",
   "metadata": {},
   "source": [
    "### Decision Tree"
   ]
  },
  {
   "cell_type": "code",
   "execution_count": 39,
   "metadata": {},
   "outputs": [
    {
     "name": "stdout",
     "output_type": "stream",
     "text": [
      "0.8866583059391039\n"
     ]
    }
   ],
   "source": [
    "clf_DTR = sklearn.tree.DecisionTreeRegressor()\n",
    "clf_DTR.fit(X_train, y_train)\n",
    "\n",
    "accuracy_DTR = clf_DTR.score(X_test, y_test)\n",
    "\n",
    "print(accuracy_DTR)"
   ]
  },
  {
   "cell_type": "markdown",
   "metadata": {},
   "source": [
    "### Random Forest"
   ]
  },
  {
   "cell_type": "code",
   "execution_count": 40,
   "metadata": {},
   "outputs": [
    {
     "name": "stdout",
     "output_type": "stream",
     "text": [
      "0.9335719150521106\n"
     ]
    }
   ],
   "source": [
    "clf_RFR = sklearn.ensemble.RandomForestRegressor()\n",
    "clf_RFR.fit(X_train, y_train)\n",
    "\n",
    "accuracy_RFR = clf_RFR.score(X_test, y_test)\n",
    "\n",
    "print(accuracy_RFR)"
   ]
  }
 ],
 "metadata": {
  "kernelspec": {
   "display_name": "Python 3",
   "language": "python",
   "name": "python3"
  },
  "language_info": {
   "codemirror_mode": {
    "name": "ipython",
    "version": 3
   },
   "file_extension": ".py",
   "mimetype": "text/x-python",
   "name": "python",
   "nbconvert_exporter": "python",
   "pygments_lexer": "ipython3",
   "version": "3.6.9"
  }
 },
 "nbformat": 4,
 "nbformat_minor": 1
}
