{
 "cells": [
  {
   "cell_type": "code",
   "execution_count": 1,
   "metadata": {},
   "outputs": [
    {
     "name": "stderr",
     "output_type": "stream",
     "text": [
      "/usr/local/lib/python3.5/dist-packages/sklearn/cross_validation.py:41: DeprecationWarning: This module was deprecated in version 0.18 in favor of the model_selection module into which all the refactored classes and functions are moved. Also note that the interface of the new CV iterators are different from that of this module. This module will be removed in 0.20.\n",
      "  \"This module will be removed in 0.20.\", DeprecationWarning)\n"
     ]
    }
   ],
   "source": [
    "import pandas as pd\n",
    "import quandl as qd\n",
    "import numpy as np\n",
    "import math\n",
    "from matplotlib import pyplot as plt\n",
    "import seaborn as sns\n",
    "from sklearn import preprocessing, cross_validation\n",
    "from sklearn.linear_model import LinearRegression"
   ]
  },
  {
   "cell_type": "code",
   "execution_count": 2,
   "metadata": {},
   "outputs": [],
   "source": [
    "df = qd.get(\"NSE/POWERGRID\", authtoken=\"gmWv5h5b4KEUxUbiSneX\")"
   ]
  },
  {
   "cell_type": "code",
   "execution_count": 3,
   "metadata": {
    "scrolled": false
   },
   "outputs": [
    {
     "name": "stdout",
     "output_type": "stream",
     "text": [
      "<class 'pandas.core.frame.DataFrame'>\n",
      "DatetimeIndex: 2773 entries, 2007-10-05 to 2018-12-17\n",
      "Data columns (total 7 columns):\n",
      "Open                    2773 non-null float64\n",
      "High                    2773 non-null float64\n",
      "Low                     2773 non-null float64\n",
      "Last                    2773 non-null float64\n",
      "Close                   2773 non-null float64\n",
      "Total Trade Quantity    2773 non-null float64\n",
      "Turnover (Lacs)         2773 non-null float64\n",
      "dtypes: float64(7)\n",
      "memory usage: 173.3 KB\n"
     ]
    }
   ],
   "source": [
    "df.info()"
   ]
  },
  {
   "cell_type": "code",
   "execution_count": 4,
   "metadata": {},
   "outputs": [],
   "source": [
    "df.dropna(inplace=True)"
   ]
  },
  {
   "cell_type": "code",
   "execution_count": 5,
   "metadata": {},
   "outputs": [
    {
     "name": "stdout",
     "output_type": "stream",
     "text": [
      "<class 'pandas.core.frame.DataFrame'>\n",
      "DatetimeIndex: 2773 entries, 2007-10-05 to 2018-12-17\n",
      "Data columns (total 7 columns):\n",
      "Open                    2773 non-null float64\n",
      "High                    2773 non-null float64\n",
      "Low                     2773 non-null float64\n",
      "Last                    2773 non-null float64\n",
      "Close                   2773 non-null float64\n",
      "Total Trade Quantity    2773 non-null float64\n",
      "Turnover (Lacs)         2773 non-null float64\n",
      "dtypes: float64(7)\n",
      "memory usage: 173.3 KB\n"
     ]
    }
   ],
   "source": [
    "df.info()"
   ]
  },
  {
   "cell_type": "code",
   "execution_count": 6,
   "metadata": {
    "scrolled": true
   },
   "outputs": [
    {
     "data": {
      "text/html": [
       "<div>\n",
       "<style scoped>\n",
       "    .dataframe tbody tr th:only-of-type {\n",
       "        vertical-align: middle;\n",
       "    }\n",
       "\n",
       "    .dataframe tbody tr th {\n",
       "        vertical-align: top;\n",
       "    }\n",
       "\n",
       "    .dataframe thead th {\n",
       "        text-align: right;\n",
       "    }\n",
       "</style>\n",
       "<table border=\"1\" class=\"dataframe\">\n",
       "  <thead>\n",
       "    <tr style=\"text-align: right;\">\n",
       "      <th></th>\n",
       "      <th>Open</th>\n",
       "      <th>High</th>\n",
       "      <th>Low</th>\n",
       "      <th>Last</th>\n",
       "      <th>Close</th>\n",
       "      <th>Total Trade Quantity</th>\n",
       "      <th>Turnover (Lacs)</th>\n",
       "    </tr>\n",
       "  </thead>\n",
       "  <tbody>\n",
       "    <tr>\n",
       "      <th>count</th>\n",
       "      <td>2773.000000</td>\n",
       "      <td>2773.000000</td>\n",
       "      <td>2773.000000</td>\n",
       "      <td>2773.000000</td>\n",
       "      <td>2773.000000</td>\n",
       "      <td>2.773000e+03</td>\n",
       "      <td>2773.000000</td>\n",
       "    </tr>\n",
       "    <tr>\n",
       "      <th>mean</th>\n",
       "      <td>131.420303</td>\n",
       "      <td>133.097007</td>\n",
       "      <td>129.517743</td>\n",
       "      <td>131.295150</td>\n",
       "      <td>131.300018</td>\n",
       "      <td>5.167660e+06</td>\n",
       "      <td>6894.396859</td>\n",
       "    </tr>\n",
       "    <tr>\n",
       "      <th>std</th>\n",
       "      <td>38.649289</td>\n",
       "      <td>38.796675</td>\n",
       "      <td>38.441220</td>\n",
       "      <td>38.571812</td>\n",
       "      <td>38.582837</td>\n",
       "      <td>1.289703e+07</td>\n",
       "      <td>14968.104879</td>\n",
       "    </tr>\n",
       "    <tr>\n",
       "      <th>min</th>\n",
       "      <td>61.700000</td>\n",
       "      <td>62.000000</td>\n",
       "      <td>52.000000</td>\n",
       "      <td>59.150000</td>\n",
       "      <td>58.000000</td>\n",
       "      <td>3.406300e+04</td>\n",
       "      <td>38.250000</td>\n",
       "    </tr>\n",
       "    <tr>\n",
       "      <th>25%</th>\n",
       "      <td>102.100000</td>\n",
       "      <td>103.700000</td>\n",
       "      <td>100.700000</td>\n",
       "      <td>102.300000</td>\n",
       "      <td>102.150000</td>\n",
       "      <td>2.124667e+06</td>\n",
       "      <td>2360.820000</td>\n",
       "    </tr>\n",
       "    <tr>\n",
       "      <th>50%</th>\n",
       "      <td>113.600000</td>\n",
       "      <td>115.000000</td>\n",
       "      <td>111.900000</td>\n",
       "      <td>113.350000</td>\n",
       "      <td>113.300000</td>\n",
       "      <td>3.391462e+06</td>\n",
       "      <td>4217.690000</td>\n",
       "    </tr>\n",
       "    <tr>\n",
       "      <th>75%</th>\n",
       "      <td>149.000000</td>\n",
       "      <td>150.950000</td>\n",
       "      <td>146.700000</td>\n",
       "      <td>148.850000</td>\n",
       "      <td>148.550000</td>\n",
       "      <td>5.539334e+06</td>\n",
       "      <td>7746.170000</td>\n",
       "    </tr>\n",
       "    <tr>\n",
       "      <th>max</th>\n",
       "      <td>226.500000</td>\n",
       "      <td>226.600000</td>\n",
       "      <td>223.000000</td>\n",
       "      <td>225.500000</td>\n",
       "      <td>225.950000</td>\n",
       "      <td>4.810589e+08</td>\n",
       "      <td>493056.070000</td>\n",
       "    </tr>\n",
       "  </tbody>\n",
       "</table>\n",
       "</div>"
      ],
      "text/plain": [
       "              Open         High          Low         Last        Close  \\\n",
       "count  2773.000000  2773.000000  2773.000000  2773.000000  2773.000000   \n",
       "mean    131.420303   133.097007   129.517743   131.295150   131.300018   \n",
       "std      38.649289    38.796675    38.441220    38.571812    38.582837   \n",
       "min      61.700000    62.000000    52.000000    59.150000    58.000000   \n",
       "25%     102.100000   103.700000   100.700000   102.300000   102.150000   \n",
       "50%     113.600000   115.000000   111.900000   113.350000   113.300000   \n",
       "75%     149.000000   150.950000   146.700000   148.850000   148.550000   \n",
       "max     226.500000   226.600000   223.000000   225.500000   225.950000   \n",
       "\n",
       "       Total Trade Quantity  Turnover (Lacs)  \n",
       "count          2.773000e+03      2773.000000  \n",
       "mean           5.167660e+06      6894.396859  \n",
       "std            1.289703e+07     14968.104879  \n",
       "min            3.406300e+04        38.250000  \n",
       "25%            2.124667e+06      2360.820000  \n",
       "50%            3.391462e+06      4217.690000  \n",
       "75%            5.539334e+06      7746.170000  \n",
       "max            4.810589e+08    493056.070000  "
      ]
     },
     "execution_count": 6,
     "metadata": {},
     "output_type": "execute_result"
    }
   ],
   "source": [
    "df.describe()"
   ]
  },
  {
   "cell_type": "code",
   "execution_count": 7,
   "metadata": {},
   "outputs": [
    {
     "data": {
      "image/png": "[encoded data removed]",
      "text/plain": [
       "<matplotlib.figure.Figure at 0x7fdc2ac2d4e0>"
      ]
     },
     "metadata": {},
     "output_type": "display_data"
    }
   ],
   "source": [
    "plt.figure(1)\n",
    "sns.heatmap(df.corr(), annot=True)\n",
    "plt.show()"
   ]
  },
  {
   "cell_type": "code",
   "execution_count": 8,
   "metadata": {},
   "outputs": [
    {
     "name": "stderr",
     "output_type": "stream",
     "text": [
      "/home/navjot/.local/lib/python3.5/site-packages/scipy/stats/stats.py:1713: FutureWarning: Using a non-tuple sequence for multidimensional indexing is deprecated; use `arr[tuple(seq)]` instead of `arr[seq]`. In the future this will be interpreted as an array index, `arr[np.array(seq)]`, which will result either in an error or a different result.\n",
      "  return np.add.reduce(sorted[indexer] * weights, axis=axis) / sumval\n"
     ]
    },
    {
     "data": {
      "image/png": "[encoded data removed]",
      "text/plain": [
       "<matplotlib.figure.Figure at 0x7fdc2ac1a400>"
      ]
     },
     "metadata": {},
     "output_type": "display_data"
    }
   ],
   "source": [
    "plt.figure(2)\n",
    "sns.distplot(df.Close)\n",
    "plt.show()"
   ]
  },
  {
   "cell_type": "code",
   "execution_count": 9,
   "metadata": {},
   "outputs": [
    {
     "data": {
      "image/png": "[encoded data removed]",
      "text/plain": [
       "<matplotlib.figure.Figure at 0x7fdc2ad000f0>"
      ]
     },
     "metadata": {},
     "output_type": "display_data"
    }
   ],
   "source": [
    "plt.figure(3)\n",
    "plt.xlabel('Index')\n",
    "plt.ylabel('Closing Price')\n",
    "plt.plot(df.Close, color='orange')\n",
    "plt.show()"
   ]
  },
  {
   "cell_type": "code",
   "execution_count": 10,
   "metadata": {},
   "outputs": [
    {
     "name": "stderr",
     "output_type": "stream",
     "text": [
      "/usr/local/lib/python3.5/dist-packages/ipykernel_launcher.py:2: SettingWithCopyWarning: \n",
      "A value is trying to be set on a copy of a slice from a DataFrame.\n",
      "Try using .loc[row_indexer,col_indexer] = value instead\n",
      "\n",
      "See the caveats in the documentation: http://pandas.pydata.org/pandas-docs/stable/indexing.html#indexing-view-versus-copy\n",
      "  \n"
     ]
    }
   ],
   "source": [
    "df_temp = df[['Open', 'High', 'Low', 'Close', 'Total Trade Quantity']]\n",
    "df_temp['HLP'] = (df_temp['High'] - df_temp['Close']) / df_temp['Close'] * 100.0\n",
    "df_temp['Change'] = (df_temp['Close'] - df_temp['Open']) / df_temp['Open'] * 100\n",
    "df_temp['EPS'] = (df['Turnover (Lacs)']*100000)/df['Total Trade Quantity']\n",
    "df_temp['PE'] = df_temp['Close']/df_temp['EPS']\n",
    "\n",
    "df_use = df_temp[['Close', 'HLP', 'Change', 'Total Trade Quantity', 'EPS', 'PE']]"
   ]
  },
  {
   "cell_type": "code",
   "execution_count": 11,
   "metadata": {
    "scrolled": false
   },
   "outputs": [
    {
     "data": {
      "text/html": [
       "<div>\n",
       "<style scoped>\n",
       "    .dataframe tbody tr th:only-of-type {\n",
       "        vertical-align: middle;\n",
       "    }\n",
       "\n",
       "    .dataframe tbody tr th {\n",
       "        vertical-align: top;\n",
       "    }\n",
       "\n",
       "    .dataframe thead th {\n",
       "        text-align: right;\n",
       "    }\n",
       "</style>\n",
       "<table border=\"1\" class=\"dataframe\">\n",
       "  <thead>\n",
       "    <tr style=\"text-align: right;\">\n",
       "      <th></th>\n",
       "      <th>Close</th>\n",
       "      <th>HLP</th>\n",
       "      <th>Change</th>\n",
       "      <th>Total Trade Quantity</th>\n",
       "      <th>EPS</th>\n",
       "      <th>PE</th>\n",
       "    </tr>\n",
       "    <tr>\n",
       "      <th>Date</th>\n",
       "      <th></th>\n",
       "      <th></th>\n",
       "      <th></th>\n",
       "      <th></th>\n",
       "      <th></th>\n",
       "      <th></th>\n",
       "    </tr>\n",
       "  </thead>\n",
       "  <tbody>\n",
       "    <tr>\n",
       "      <th>2007-10-05</th>\n",
       "      <td>100.60</td>\n",
       "      <td>8.846918</td>\n",
       "      <td>12.026726</td>\n",
       "      <td>481058927.0</td>\n",
       "      <td>102.493903</td>\n",
       "      <td>0.981522</td>\n",
       "    </tr>\n",
       "    <tr>\n",
       "      <th>2007-10-08</th>\n",
       "      <td>95.45</td>\n",
       "      <td>8.957569</td>\n",
       "      <td>-8.221154</td>\n",
       "      <td>71252858.0</td>\n",
       "      <td>98.124008</td>\n",
       "      <td>0.972749</td>\n",
       "    </tr>\n",
       "    <tr>\n",
       "      <th>2007-10-09</th>\n",
       "      <td>101.95</td>\n",
       "      <td>0.882786</td>\n",
       "      <td>6.753927</td>\n",
       "      <td>65658228.0</td>\n",
       "      <td>98.567753</td>\n",
       "      <td>1.034314</td>\n",
       "    </tr>\n",
       "    <tr>\n",
       "      <th>2007-10-10</th>\n",
       "      <td>102.90</td>\n",
       "      <td>2.040816</td>\n",
       "      <td>-1.625239</td>\n",
       "      <td>38211410.0</td>\n",
       "      <td>103.657180</td>\n",
       "      <td>0.992695</td>\n",
       "    </tr>\n",
       "    <tr>\n",
       "      <th>2007-10-11</th>\n",
       "      <td>114.40</td>\n",
       "      <td>4.895105</td>\n",
       "      <td>-4.666667</td>\n",
       "      <td>59805552.0</td>\n",
       "      <td>110.779598</td>\n",
       "      <td>1.032681</td>\n",
       "    </tr>\n",
       "  </tbody>\n",
       "</table>\n",
       "</div>"
      ],
      "text/plain": [
       "             Close       HLP     Change  Total Trade Quantity         EPS  \\\n",
       "Date                                                                        \n",
       "2007-10-05  100.60  8.846918  12.026726           481058927.0  102.493903   \n",
       "2007-10-08   95.45  8.957569  -8.221154            71252858.0   98.124008   \n",
       "2007-10-09  101.95  0.882786   6.753927            65658228.0   98.567753   \n",
       "2007-10-10  102.90  2.040816  -1.625239            38211410.0  103.657180   \n",
       "2007-10-11  114.40  4.895105  -4.666667            59805552.0  110.779598   \n",
       "\n",
       "                  PE  \n",
       "Date                  \n",
       "2007-10-05  0.981522  \n",
       "2007-10-08  0.972749  \n",
       "2007-10-09  1.034314  \n",
       "2007-10-10  0.992695  \n",
       "2007-10-11  1.032681  "
      ]
     },
     "execution_count": 11,
     "metadata": {},
     "output_type": "execute_result"
    }
   ],
   "source": [
    "df_use.head()"
   ]
  },
  {
   "cell_type": "code",
   "execution_count": 12,
   "metadata": {
    "scrolled": true
   },
   "outputs": [
    {
     "name": "stdout",
     "output_type": "stream",
     "text": [
      "             Close       HLP    Change  Total Trade Quantity         EPS  \\\n",
      "Date                                                                       \n",
      "2018-10-30  186.15  1.826484 -1.507937             2871863.0  186.978627   \n",
      "2018-10-31  185.95  0.430223  0.459211             5412453.0  184.345989   \n",
      "2018-11-01  188.45  0.451048  1.262762             3151762.0  186.726028   \n",
      "2018-11-02  189.85  1.290492  0.423168             3394386.0  190.506619   \n",
      "2018-11-05  186.05  1.854340 -1.586882             2740960.0  185.965501   \n",
      "\n",
      "                  PE   Label  \n",
      "Date                          \n",
      "2018-10-30  0.995568  180.30  \n",
      "2018-10-31  1.008701  182.55  \n",
      "2018-11-01  1.009233  182.55  \n",
      "2018-11-02  0.996553  185.70  \n",
      "2018-11-05  1.000454  192.55  \n"
     ]
    },
    {
     "name": "stderr",
     "output_type": "stream",
     "text": [
      "/usr/local/lib/python3.5/dist-packages/ipykernel_launcher.py:5: SettingWithCopyWarning: \n",
      "A value is trying to be set on a copy of a slice from a DataFrame.\n",
      "Try using .loc[row_indexer,col_indexer] = value instead\n",
      "\n",
      "See the caveats in the documentation: http://pandas.pydata.org/pandas-docs/stable/indexing.html#indexing-view-versus-copy\n",
      "  \"\"\"\n",
      "/usr/local/lib/python3.5/dist-packages/ipykernel_launcher.py:11: SettingWithCopyWarning: \n",
      "A value is trying to be set on a copy of a slice from a DataFrame\n",
      "\n",
      "See the caveats in the documentation: http://pandas.pydata.org/pandas-docs/stable/indexing.html#indexing-view-versus-copy\n",
      "  # This is added back by InteractiveShellApp.init_path()\n"
     ]
    }
   ],
   "source": [
    "forecast_col = 'Close'\n",
    "\n",
    "forecast_out = int(math.ceil(0.01*len(df_use)))\n",
    "\n",
    "df_use['Label'] = df_use[forecast_col].shift(-forecast_out)\n",
    "\n",
    "df_pred = df_use[-26:]\n",
    "\n",
    "# print(df_pred.head(26))\n",
    "\n",
    "df_use.dropna(inplace=True)\n",
    "\n",
    "print(df_use.tail())"
   ]
  },
  {
   "cell_type": "code",
   "execution_count": 13,
   "metadata": {},
   "outputs": [
    {
     "name": "stdout",
     "output_type": "stream",
     "text": [
      "We are predicting \" 28 \" days into the future\n"
     ]
    }
   ],
   "source": [
    "print('We are predicting \"', forecast_out, '\" days into the future')"
   ]
  },
  {
   "cell_type": "code",
   "execution_count": 14,
   "metadata": {},
   "outputs": [
    {
     "name": "stdout",
     "output_type": "stream",
     "text": [
      "<class 'pandas.core.frame.DataFrame'>\n",
      "DatetimeIndex: 2745 entries, 2007-10-05 to 2018-11-05\n",
      "Data columns (total 7 columns):\n",
      "Close                   2745 non-null float64\n",
      "HLP                     2745 non-null float64\n",
      "Change                  2745 non-null float64\n",
      "Total Trade Quantity    2745 non-null float64\n",
      "EPS                     2745 non-null float64\n",
      "PE                      2745 non-null float64\n",
      "Label                   2745 non-null float64\n",
      "dtypes: float64(7)\n",
      "memory usage: 171.6 KB\n"
     ]
    }
   ],
   "source": [
    "df_use.info()"
   ]
  },
  {
   "cell_type": "code",
   "execution_count": 25,
   "metadata": {
    "scrolled": true
   },
   "outputs": [
    {
     "name": "stdout",
     "output_type": "stream",
     "text": [
      "(2745, 6) (2745,)\n"
     ]
    }
   ],
   "source": [
    "X = df_use\n",
    "X = X.drop(['Label'], 1)\n",
    "#X = preprocessing.scale(X)\n",
    "\n",
    "y = df_use['Label']\n",
    "\n",
    "print(X.shape, y.shape)"
   ]
  },
  {
   "cell_type": "code",
   "execution_count": 26,
   "metadata": {},
   "outputs": [
    {
     "name": "stdout",
     "output_type": "stream",
     "text": [
      "(2196, 6) (2196,)\n",
      "(549, 6) (549,)\n"
     ]
    }
   ],
   "source": [
    "# X = np.array(df_use.drop(['label'], 1))\n",
    "# y = np.array(df_use['label'])\n",
    "\n",
    "# X = preprocessing.scale(X)\n",
    "\n",
    "# print(X.shape, Y.shape)\n",
    "\n",
    "X_train, X_test, y_train, y_test = cross_validation.train_test_split(X, y, test_size=0.2)\n",
    "\n",
    "print(X_train.shape, y_train.shape)\n",
    "print(X_test.shape, y_test.shape)"
   ]
  },
  {
   "cell_type": "code",
   "execution_count": 27,
   "metadata": {
    "scrolled": true
   },
   "outputs": [
    {
     "name": "stdout",
     "output_type": "stream",
     "text": [
      "0.9440042223531321\n",
      "LinearRegression(copy_X=True, fit_intercept=True, n_jobs=-1, normalize=False)\n"
     ]
    }
   ],
   "source": [
    "clf = LinearRegression(n_jobs=-1)\n",
    "clf.fit(X_train, y_train)\n",
    "accuracy = clf.score(X_test, y_test)\n",
    "slope=clf\n",
    "print(accuracy)\n",
    "print(slope)"
   ]
  },
  {
   "cell_type": "code",
   "execution_count": 18,
   "metadata": {},
   "outputs": [],
   "source": [
    "X_pred = df_pred.drop(['Label'], 1)\n",
    "\n",
    "#X_pred = preprocessing.scale(X_pred)\n",
    "\n",
    "y_pred = clf.predict(X_pred)\n",
    "\n",
    "y_orig = df['Close'][-26:].iloc[:].values"
   ]
  },
  {
   "cell_type": "code",
   "execution_count": 19,
   "metadata": {},
   "outputs": [
    {
     "name": "stdout",
     "output_type": "stream",
     "text": [
      "[191.7  185.95 184.05 185.95 187.1  188.1  189.7  188.4  182.1  179.8\n",
      " 182.45 182.55 184.3  180.5  180.15 183.8  187.25 183.5  183.5  182.65\n",
      " 179.3  180.3  182.55 182.55 185.7  192.55]\n",
      "[190.34998133 185.73899986 184.02368692 185.15683624 186.1918615\n",
      " 186.70109455 188.42635519 187.96586326 182.21024911 179.88967007\n",
      " 181.44691976 181.33457198 183.1072645  180.12034422 179.61351714\n",
      " 181.90954251 185.89193437 182.76755916 182.64266564 181.91587712\n",
      " 179.17678478 179.04225905 181.56805503 181.8915713  184.88850931\n",
      " 191.68547345]\n"
     ]
    }
   ],
   "source": [
    "print(y_orig)\n",
    "print(y_pred)"
   ]
  },
  {
   "cell_type": "code",
   "execution_count": 20,
   "metadata": {},
   "outputs": [
    {
     "data": {
      "text/plain": [
       "[<matplotlib.lines.Line2D at 0x7fdc27368fd0>]"
      ]
     },
     "execution_count": 20,
     "metadata": {},
     "output_type": "execute_result"
    },
    {
     "data": {
      "image/png": "[encoded data removed]",
      "text/plain": [
       "<matplotlib.figure.Figure at 0x7fdc273212b0>"
      ]
     },
     "metadata": {},
     "output_type": "display_data"
    }
   ],
   "source": [
    "fig = plt.figure(figsize=(20, 7))\n",
    "ax = fig.add_subplot(111)\n",
    "ax.plot(y_pred)\n",
    "ax.plot(y_orig, color='orange')"
   ]
  },
  {
   "cell_type": "code",
   "execution_count": null,
   "metadata": {},
   "outputs": [],
   "source": []
  }
 ],
 "metadata": {
  "kernelspec": {
   "display_name": "Python 3",
   "language": "python",
   "name": "python3"
  },
  "language_info": {
   "codemirror_mode": {
    "name": "ipython",
    "version": 3
   },
   "file_extension": ".py",
   "mimetype": "text/x-python",
   "name": "python",
   "nbconvert_exporter": "python",
   "pygments_lexer": "ipython3",
   "version": "3.6.9"
  }
 },
 "nbformat": 4,
 "nbformat_minor": 2
}
